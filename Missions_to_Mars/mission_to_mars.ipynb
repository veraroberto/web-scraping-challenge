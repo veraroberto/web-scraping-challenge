{
 "cells": [
  {
   "cell_type": "code",
   "execution_count": 18,
   "metadata": {},
   "outputs": [],
   "source": [
    "from bs4 import BeautifulSoup as bs\n",
    "import pandas as pd\n",
    "import requests\n",
    "import pymongo\n",
    "from splinter import Browser\n",
    "from webdriver_manager.chrome import ChromeDriverManager"
   ]
  },
  {
   "cell_type": "code",
   "execution_count": 19,
   "metadata": {},
   "outputs": [
    {
     "name": "stderr",
     "output_type": "stream",
     "text": [
      "\n",
      "\n",
      "====== WebDriver manager ======\n",
      "Current google-chrome version is 91.0.4472\n",
      "Get LATEST driver version for 91.0.4472\n",
      "Driver [/Users/robertovera/.wdm/drivers/chromedriver/mac64/91.0.4472.19/chromedriver] found in cache\n"
     ]
    }
   ],
   "source": [
    "executable_path = {'executable_path': ChromeDriverManager().install()}\n",
    "browser = Browser('chrome', **executable_path, headless=False)"
   ]
  },
  {
   "cell_type": "code",
   "execution_count": 20,
   "metadata": {},
   "outputs": [],
   "source": [
    "mars_url = 'https://redplanetscience.com/'\n",
    "browser.visit(mars_url)"
   ]
  },
  {
   "cell_type": "code",
   "execution_count": 27,
   "metadata": {},
   "outputs": [],
   "source": [
    "news_tittle = browser.find_by_css('div.content_title')\n",
    "news_p = browser.find_by_css('div.article_teaser_body')"
   ]
  },
  {
   "cell_type": "code",
   "execution_count": 29,
   "metadata": {},
   "outputs": [
    {
     "data": {
      "text/plain": [
       "[\"NASA's Mars 2020 Will Hunt for Microscopic Fossils\",\n",
       " \"NASA's Mars Perseverance Rover Gets Its Sample Handling System\",\n",
       " 'NASA Establishes Board to Initially Review Mars Sample Return Plans',\n",
       " 'NASA Perseverance Mars Rover Scientists Train in the Nevada Desert',\n",
       " 'NASA Adds Return Sample Scientists to Mars 2020 Leadership Team',\n",
       " \"NASA's Mars Perseverance Rover Passes Flight Readiness Review\",\n",
       " 'AI Is Helping Scientists Discover Fresh Craters on Mars',\n",
       " \"NASA's MAVEN Explores Mars to Understand Radio Interference at Earth\",\n",
       " \"NASA's Mars 2020 Rover Closer to Getting Its Name\",\n",
       " 'Global Storms on Mars Launch Dust Towers Into the Sky',\n",
       " \"NASA InSight's 'Mole' Is Out of Sight\",\n",
       " \"Newfound Martian Aurora Actually the Most Common; Sheds Light on Mars' Changing Climate\",\n",
       " 'NASA Administrator Statement on Moon to Mars Initiative, FY 2021 Budget',\n",
       " \"Follow NASA's Perseverance Rover in Real Time on Its Way to Mars\",\n",
       " 'Join NASA for the Launch of the Mars 2020 Perseverance Rover']"
      ]
     },
     "execution_count": 29,
     "metadata": {},
     "output_type": "execute_result"
    }
   ],
   "source": [
    "tittle = []\n",
    "paragraph = []\n",
    "\n",
    "for t in news_title:\n",
    "    tittle.append(t.text)\n",
    "for p in news_p:\n",
    "    paragraph\n",
    "    \n",
    "tittle"
   ]
  },
  {
   "cell_type": "code",
   "execution_count": null,
   "metadata": {},
   "outputs": [],
   "source": [
    "#for news in news_title.find_all(True):\n",
    "#    print(news.name)\n",
    "# html"
   ]
  },
  {
   "cell_type": "code",
   "execution_count": null,
   "metadata": {},
   "outputs": [],
   "source": [
    "browser.quit()"
   ]
  }
 ],
 "metadata": {
  "kernelspec": {
   "display_name": "Python [conda env:PythonData] *",
   "language": "python",
   "name": "conda-env-PythonData-py"
  },
  "language_info": {
   "codemirror_mode": {
    "name": "ipython",
    "version": 3
   },
   "file_extension": ".py",
   "mimetype": "text/x-python",
   "name": "python",
   "nbconvert_exporter": "python",
   "pygments_lexer": "ipython3",
   "version": "3.6.10"
  }
 },
 "nbformat": 4,
 "nbformat_minor": 4
}
